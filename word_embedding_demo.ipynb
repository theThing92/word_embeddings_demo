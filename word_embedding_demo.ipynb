{
 "cells": [
  {
   "cell_type": "markdown",
   "metadata": {},
   "source": [
    "# Word Embeddings\n",
    "\n",
    "- **Referent:** Maurice Vogel\n",
    "- **Datum:** 05.12.2019"
   ]
  },
  {
   "cell_type": "markdown",
   "metadata": {},
   "source": [
    "Das vorliegende Notebook soll sowohl einen ersten theoretischen als auch praktischen Einstieg in das Thema *Word Embeddings* bieten. Alle für diese Demo verwendeten Frameworks sind komplett Open-Source und in dem entsprechenden [Git-Repository](https://github.com/theThing92/word_embeddings_demo) verlinkt. Auch der hier gezeigte Source-Code darf frei verwendet werden (MIT-Lizenz)."
   ]
  },
  {
   "cell_type": "code",
   "execution_count": 1,
   "metadata": {},
   "outputs": [],
   "source": [
    "%matplotlib inline\n",
    "\n",
    "import logging\n",
    "logging.basicConfig(format='%(asctime)s : %(levelname)s : %(message)s', level=logging.INFO)"
   ]
  },
  {
   "cell_type": "markdown",
   "metadata": {},
   "source": [
    "# Gliederung\n",
    "1. Einleitung<br>\n",
    "    1.1. Semantik am Beispiel von Lewis Carrols \"Jabberwocky\"<br>\n",
    "    1.2. Distributionelle Hypothese<br><br>\n",
    "2. theoretischer Hintergrund<br>\n",
    "    2.1. lexikalische Semantik<br>\n",
    "    2.2. Vektorsemantik<br>\n",
    "    2.3. Embeddings<br><br>\n",
    "3. Semantik über Sparse Vectors<br>\n",
    "    3.1. Bag-of-Words (BOW) / Term-Dokument-Matrix<br>\n",
    "    3.2. Term-Term-Matrix / Wort-Wort-Matrix<br><br>\n",
    "4. Gewichtung von frequenzbasierten Vektoren<br>\n",
    "    4.1. TF-IDF<br>\n",
    "    4.2. Pointwise Mutual Information<br>\n",
    "    4.3. Anwendungsfelder<br><br>\n",
    "5. Ähnlichkeitsbestimmung im Vektorraum<br><br>\n",
    "6. Semantik über Dense Vectors<br>\n",
    "    6.1. word2vec<br>\n",
    "    6.2. weitere Verfahren<br>\n",
    "    6.3. Contextualized String Embeddings<br><br>\n",
    "7. Diskussion<br>"
   ]
  },
  {
   "cell_type": "markdown",
   "metadata": {},
   "source": [
    "## 1. Einleitung\n",
    "\n",
    "**Lernziele**\n",
    "- Was ist die Grundidee hinter vektorraum-basierten Sprachmodellen, wie z.B. Word Embeddings?"
   ]
  },
  {
   "cell_type": "markdown",
   "metadata": {},
   "source": [
    "### 1.1. Semantik am Beispiel von Lewis Carrols \"Jabberwocky\"\n",
    "\n",
    "Für einen exemplarischen Einstieg in die Thematik betrachten Sie bitte das unten stehende Gedicht [\"Jabberwocky\" aus Lewis Carrols \"Alice hinter den Spiegeln\" (1871)](https://de.wikipedia.org/wiki/Jabberwocky). \n",
    "\n",
    "**Aufgaben**: \n",
    "1. Was ist die Bedeutung des Wortes <font color='red'>***Jabberwock***</font>? \n",
    "2. Wie kann die Semantik dieses unbekannten Wortes erschlossen werden?\n",
    "\n",
    ">Twas brillig, and the slithy toves<br>\n",
    ">Did gyre and gimble in the wabe;<br>\n",
    ">All mimsy were the borogoves,<br>\n",
    ">And the mome raths outgrabe.<br><br>\n",
    ">\n",
    ">Beware the <font color='red'>**Jabberwock**</font>, my son!<br>\n",
    ">The jaws that bite, the claws that catch!<br>\n",
    ">Beware the Jubjub bird, and shun<br>\n",
    ">The frumious Bandersnatch!<br><br>\n",
    ">\n",
    ">He took his vorpal sword in hand:<br>\n",
    ">Long time the manxome foe he sought<br>\n",
    ">So rested he by the Tumtum tree,<br>\n",
    ">And stood awhile in thought.<br><br>\n",
    ">\n",
    ">And as in uffish thought he stood,<br>\n",
    ">The <font color='red'>**Jabberwock**</font>, with eyes of flame,<br>\n",
    ">Came whiffling through the tulgey wood,<br>\n",
    ">And burbled as it came!<br><br>\n",
    ">\n",
    ">One, two! One, two! And through and through<br>\n",
    ">The vorpal blade went snicker-snack!<br>\n",
    ">He left it dead, and with its head<br>\n",
    ">He went galumphing back.<br><br>\n",
    ">\n",
    ">And hast thou slain the <font color='red'>**Jabberwock**</font>?<br>\n",
    ">Come to my arms, my beamish boy!<br>\n",
    ">O frabjous day! Callooh! Callay!<br>\n",
    ">He chortled in his joy.<br><br>\n",
    ">\n",
    ">Twas brillig, and the slithy toves<br>\n",
    ">Did gyre and gimble in the wabe;<br>\n",
    ">All mimsy were the borogoves,<br>\n",
    ">And the mome raths outgrabe.<br><br>"
   ]
  },
  {
   "cell_type": "markdown",
   "metadata": {},
   "source": [
    "**Lösung:**<br>\n",
    "*Aufgabe 1*<br>\n",
    "- Semantik ~ \"gefährliches, drachenähliches Fabelwesen mit Zähnen, Klauen und feurigen Augen\"\n",
    "![](img/jabberwocky.jpg)*Abb. 1: künstlerische Darstellung des \"Jabberwock\" von [John Tenniel](https://de.wikipedia.org/wiki/John_Tenniel)*<br><br>\n",
    "\n",
    "*Aufgabe 2*<br>\n",
    "Die Bedeutung eines unbekannten Wortes kann über den umgebenden Kontext erschlossen werden. Das Wort ***Jabberwock*** taucht vermehrt mit Wörter auf, die auf Gefahr hindeuten, z.B.:\n",
    "  - \"**Beware** the Jabberwock, my son!\\ The **jaws** that **bite**, the **claws** that catch!\"\n",
    "  - \"The Jabberwock, with **eyes of flame**,\\ Came **whiffling** through the tulgey wood,\\ And **burbled** as it came!\"\n",
    "  - ...<br>\n",
    "\n",
    "Zudem ähnelt die Handlungsstruktur des Gedicht denen von klassischen Heldensagen, wie z.B. der Nibelungensaga, in denen ein Held loszieht, um einen Drachen zu erschlagen, sodass wir durch Analogiebildung feststellen können, dass ein ***Jabberwock*** ein drachenähnliches Fabelwesen sein muss. Hierbei kommt allerdings ein deutlich komplexeres Weltwissen zum Tragen, das über ein reines \"Wortkontext-Wissen\" hinausgeht und demzufolge auch schwieriger zu modellieren wäre."
   ]
  },
  {
   "cell_type": "markdown",
   "metadata": {},
   "source": [
    "### 1.2. Distributionelle Hypothese\n",
    "Ausgehend von der oben dargestellten Beobachtung entwickelte Wittgenstein in der (Sprach-)Philosophie folgende Hypothese zur Frage, wie die Semantik eines Wortes definiert werden könne: \n",
    "\n",
    "> “the meaning of a word is its use in the language” (Wittgenstein,\n",
    "1953)\n",
    "\n",
    "Diese gebrauchsorientierte Wortsemantikdefinition grenzt sich insbesondere zu logisch-formalen Ansätzen ab, welche Wittgenstein als wenig praktikabel zur Darstellung von natürlicher Sprache erachtete (Jurafsky & Martin, 2019). \n",
    "\n",
    "Dieser Grundgedanke wurde in den 1950ern von verschiedenen Linguisten (Joos, 1950; Harris,1954; Firth, 1957) zur sogenannten **Distributionelle Hypothese** (*distributional hypothesis*) 'erweitert':\n",
    "\n",
    "> \"\\[D\\]efine a word by its **environment or distribution** in language use. A word’s\n",
    "distribution is the set of contexts in which it occurs, the neighboring words or grammatical\n",
    "environments. The idea is that two words that occur in very similar distributions\n",
    "(that occur together with very similar words) are likely to have the same\n",
    "meaning.\" (Jurafsky & Martin, 2019)"
   ]
  },
  {
   "cell_type": "markdown",
   "metadata": {},
   "source": [
    "## 2. Theoretischer Hintergrund\n",
    "\n",
    "**Lernziele**\n",
    "- Wie kann die Bedeutung zwischen Wörtern beschrieben werden? \n",
    "- Wie kann die Semantik eines Wortes als Vektor dargestellt werden?\n",
    "- Was sind Embeddings in diesem Kontext?"
   ]
  },
  {
   "cell_type": "markdown",
   "metadata": {},
   "source": [
    "### 2.1. lexikalische Semantik\n",
    "\n",
    "In der Forschung zur lexikalischen Semantik sind verschiedene Termini gebräuchlich, welche die semantischen Eigenschaften von Wörtern sowie ihre Relationen zueinander im Lexikon zu fassen suchen.\n",
    "\n",
    "**Aufgabe**\n",
    "3. Welche Termini kennen sie zur Beschreibung dieser Eigenschaften und \"Anordnungsrelationen\"? Können Sie entsprechende Beispiele nennen? (vgl. Jurafsky & Martin, 2019)\n",
    "\n",
    "\n",
    "\n",
    "\n",
    "\n",
    "\n"
   ]
  },
  {
   "cell_type": "markdown",
   "metadata": {},
   "source": [
    "**Lösung (Auswahl)**<br>\n",
    "*Aufgabe 3*<br>\n",
    "- Lemma - Wortform<br>\n",
    "  - Mann - Männer (Flexion)<br>\n",
    "  - Mann - männlich (Derivation)<br>\n",
    "  - Mann - Männerverein (Komposition)<br>\n",
    "  - ...<br><br>\n",
    "\n",
    "- lexikalische Relationen<br>\n",
    "  - Synonymie<br>\n",
    "  - Polysemie<br>\n",
    "  - ...<br><br>\n",
    "\n",
    "- Ähnlichkeit<br>\n",
    "  - vgl. SimLex-999 Datensatz (Hill et al., 2015)<br><br>\n",
    "  \n",
    "- Verwandschaft / Bezogenheit / Assoziation\n",
    "  - z.B.: Kaffee - Becher<br>\n",
    "  - semantische Felder / Wortfelder<br>\n",
    "    - Topic-Modelle<br>\n",
    "      - LSI/LSA<br>\n",
    "      - LDA<br>\n",
    "      - HDP<br>\n",
    "      - ...<br>\n",
    "    - semantische Frames und Rollen<br>\n",
    "      - >\"A semantic frame is a set of words that denote perspectives or participants in a particular type of event.\"<br> (Jurafsky & Martin, 2019)<br><br>\n",
    "\n",
    "- Affektive Bedeutung / Konnotation<br>\n",
    "  - *mögliche* Beschreibungsebenen: positiv - negativ - neutral - ...<br>\n",
    "    - Onkel Doktor - Halbgott in Weiß - Arzt - ...<br>\n",
    "  - Sentiment<br>\n",
    "    - Sentiment Analyis<br><br>\n",
    "\n",
    "Eine der frühen Arbeiten zur Beschreibung der affektiven Wortbedeutung (Osgood et al., 1957) bildet hierbei die theoretische Grundlage für die Darstellung von Wörtern als Vektoren.\n"
   ]
  },
  {
   "cell_type": "markdown",
   "metadata": {},
   "source": [
    "### 2.2. Vektorsemantik\n",
    "**Hintergrund**<br>\n",
    "Osgood et al. (1957, zitiert nach Jurafsky & Martin, 2019) definieren die affektive Bedeutung eines Wortes nach folgenden **drei** Dimensionen: \n",
    "\n",
    "> **valence**: the pleasantness of the stimulus<br>\n",
    "> **arousal**: the intensity of emotion provoked by the stimulus<br>\n",
    "> **dominance**: the degree of control exerted by the stimulus<br>\n",
    "\n",
    "Die affektive Wortbedeutung von mehreren Wörtern könnte also tabellarisch wie folgt beschrieben werden:"
   ]
  },
  {
   "cell_type": "code",
   "execution_count": 2,
   "metadata": {},
   "outputs": [
    {
     "data": {
      "text/html": [
       "<div>\n",
       "<style scoped>\n",
       "    .dataframe tbody tr th:only-of-type {\n",
       "        vertical-align: middle;\n",
       "    }\n",
       "\n",
       "    .dataframe tbody tr th {\n",
       "        vertical-align: top;\n",
       "    }\n",
       "\n",
       "    .dataframe thead th {\n",
       "        text-align: right;\n",
       "    }\n",
       "</style>\n",
       "<table border=\"1\" class=\"dataframe\">\n",
       "  <thead>\n",
       "    <tr style=\"text-align: right;\">\n",
       "      <th></th>\n",
       "      <th>Valence</th>\n",
       "      <th>Arousal</th>\n",
       "      <th>Dominance</th>\n",
       "    </tr>\n",
       "  </thead>\n",
       "  <tbody>\n",
       "    <tr>\n",
       "      <th>courageous</th>\n",
       "      <td>8.05</td>\n",
       "      <td>5.50</td>\n",
       "      <td>7.38</td>\n",
       "    </tr>\n",
       "    <tr>\n",
       "      <th>music</th>\n",
       "      <td>7.67</td>\n",
       "      <td>5.57</td>\n",
       "      <td>6.50</td>\n",
       "    </tr>\n",
       "    <tr>\n",
       "      <th>heartbreak</th>\n",
       "      <td>2.45</td>\n",
       "      <td>5.65</td>\n",
       "      <td>3.58</td>\n",
       "    </tr>\n",
       "    <tr>\n",
       "      <th>cub</th>\n",
       "      <td>6.71</td>\n",
       "      <td>3.95</td>\n",
       "      <td>4.24</td>\n",
       "    </tr>\n",
       "    <tr>\n",
       "      <th>life</th>\n",
       "      <td>6.68</td>\n",
       "      <td>5.59</td>\n",
       "      <td>5.89</td>\n",
       "    </tr>\n",
       "  </tbody>\n",
       "</table>\n",
       "</div>"
      ],
      "text/plain": [
       "            Valence  Arousal  Dominance\n",
       "courageous     8.05     5.50       7.38\n",
       "music          7.67     5.57       6.50\n",
       "heartbreak     2.45     5.65       3.58\n",
       "cub            6.71     3.95       4.24\n",
       "life           6.68     5.59       5.89"
      ]
     },
     "execution_count": 2,
     "metadata": {},
     "output_type": "execute_result"
    }
   ],
   "source": [
    "import pandas as pd\n",
    "# Erzegung einer Tabelle mit den Wörtern als Index sowie deren Ausprägungen \n",
    "# für die drei o.g. Dimensionen \"Valence\", \"Arousal\" und \"Dominance\"\n",
    "data_osgood = {\"courageous\":[8.05, 5.5, 7.38],\n",
    "               \"music\":[7.67, 5.57, 6.5],\n",
    "               \"heartbreak\":[2.45, 5.65, 3.58],\n",
    "               \"cub\":[6.71, 3.95, 4.24],\n",
    "               \"life\":[6.68, 5.59, 5.89]}\n",
    "df_osgood = pd.DataFrame.from_dict(data_osgood, orient=\"index\", columns =[\"Valence\", \"Arousal\", \"Dominance\"])\n",
    "df_osgood"
   ]
  },
  {
   "cell_type": "markdown",
   "metadata": {},
   "source": [
    "Hierbei fällt auf, dass man diese Information nicht nur tabellarisch, sondern auch als Datenmatrix *X* der einzelnen Vektoren (*v1* - *v5*) dargestellt werden könnte, sodass die Wortsemantik als Vektor in einem drei-dimensionalen Raum codierbar wäre."
   ]
  },
  {
   "cell_type": "code",
   "execution_count": 3,
   "metadata": {
    "scrolled": true
   },
   "outputs": [
    {
     "data": {
      "text/plain": [
       "array([[8.05, 5.5 , 7.38],\n",
       "       [7.67, 5.57, 6.5 ],\n",
       "       [2.45, 5.65, 3.58],\n",
       "       [6.71, 3.95, 4.24],\n",
       "       [6.68, 5.59, 5.89]])"
      ]
     },
     "execution_count": 3,
     "metadata": {},
     "output_type": "execute_result"
    }
   ],
   "source": [
    "matrix_osgood = df_osgood.values\n",
    "matrix_osgood"
   ]
  },
  {
   "cell_type": "code",
   "execution_count": 4,
   "metadata": {},
   "outputs": [
    {
     "name": "stdout",
     "output_type": "stream",
     "text": [
      "Anzahl Zeilen (n): 5\n",
      "Anzahl Spalten (m): 3\n"
     ]
    }
   ],
   "source": [
    "rows_osgood, cols_osgood = matrix_osgood.shape\n",
    "print(f\"Anzahl Zeilen (n): {rows_osgood}\")\n",
    "print(f\"Anzahl Spalten (m): {cols_osgood}\")"
   ]
  },
  {
   "cell_type": "code",
   "execution_count": 5,
   "metadata": {
    "scrolled": false
   },
   "outputs": [
    {
     "data": {
      "image/png": "[encoded data removed]",
      "text/plain": [
       "<Figure size 1440x1008 with 1 Axes>"
      ]
     },
     "metadata": {
      "needs_background": "light"
     },
     "output_type": "display_data"
    }
   ],
   "source": [
    "%matplotlib inline\n",
    "from mpl_toolkits import mplot3d\n",
    "import matplotlib.pyplot as plt\n",
    "fig = plt.figure(figsize=(20,14))\n",
    "ax = fig.gca(projection='3d')\n",
    "ax.set_xlabel('Valence')\n",
    "ax.set_ylabel('Arousal')\n",
    "ax.set_zlabel('Dominance')\n",
    "ax.scatter3D(matrix_osgood[:,0], matrix_osgood[:,1], matrix_osgood[:,2])\n",
    "for i,v in enumerate(matrix_osgood):\n",
    "    ax.text(matrix_osgood[i,0],matrix_osgood[i,1], matrix_osgood[i,2], f\"{df_osgood.index[i]}\")\n"
   ]
  },
  {
   "cell_type": "markdown",
   "metadata": {},
   "source": [
    "Osgood et al. (1957) stellen hierbei die Semantik eines Wortes auf Grundlage von **vorab definierten Merkmalsdimensionen** (*feature engineering*) dar. Neuere computerlinguistische Ansätze \"überspringen\" diesen Schritt der expliziten Merkmalskodierung, indem relevante semantische Merkmale automatisch aus unannotierten Text-Korpora gelernt werden können. Dies wird als *feature learning / feature extraction* bezeichnet (später mehr dazu). Hierbei wird hauptsächlich der umgebende Kontext eines Wortes berücksichtigt, um auf dieser Basis eine Wortsemantik erlernen zu können. \n",
    "\n",
    "In diesem Sinne vereinen diese Algorithmen folgende zwei Intuition:\n",
    "1. Wörter sind als Punkte/Vektoren in einem mehrdimensionalen Raum darstellbar\n",
    "2. die Bedeutung eines Wortes erschließt sich durch seinen Kontext (Distributionelle Hypothese)\n",
    "\n",
    "**Hinweis:** Obwohl ich aktuell von Wörtern spreche, werden wir bei späteren Verfahren sehen, dass diese nicht nur die Semantik einzelner Wörter codieren können, sondern beliebige Sequenzen als Input nehmen können (z.B. Phrasen, Sätze etc.). "
   ]
  },
  {
   "cell_type": "markdown",
   "metadata": {},
   "source": [
    "### 2.3. Embeddings\n",
    "\n",
    "Aus den [2.2.](#2.2.-Vektorsemantik) vorgestellten Zusammenhängen kann nun der Begriff Embedding defininert werden: \n",
    "\n",
    "**Definition**\n",
    ">The idea of vector semantics is thus to represent a word as a point in some multidimensional\n",
    ">semantic space. Vectors for representing words are generally called\n",
    ">**embeddings**, because the word is embedded in a particular vector space.<br>\n",
    "> (Jurafsky & Martin, 2019)\n",
    "\n",
    "Die einzelnen Algorithmen zur Generierung dieser Embeddings arbeiten im Detail sehr unterschiedlich, gemein ist ihnen allen jedoch, dass sie **immer** den umgebenden Kontext ihres Inputs (Wörter, Sätze, Phrasen, Paragraphen, Dokumente etc.) für die Generierung der gewünschten 'Ziel-Embeddings' nutzen. Hierfür müssen die Modelle zunächst auf einer ausreichenden Menge an Texten trainiert werden. Anschließend können auch neue oder unbekannte Daten durch das Modell in den entsprechenden Vektorraum transformiert/eingebettet werden. Das Resultat dieser Einbettung/Transformation ist eine semantische Repräsentation für einen Input, von dem wir kein zuvor **keine** Information über dessen Semantik hatten. \n",
    "\n",
    "**Hinweis:** Der resultierende semantische Raum bzw. die semantische Anordnung der Vektoren in diesem Raum lässt sich jedoch aktuell nur relativ schwierig (systematisch) unter die in [2.1.](#2.1.-lexikalische-Semantik) dargestellten Konzepte fassen. Wir können zwar bestimmte semantische Phänomene in diesem Vektorraum beobachten (später mehr dazu) und durch Embeddings konnte die Performanz von NLP-Systemen für sehr verschiedene Aufgabenstellungen gesteigert werden, allerdings besteht noch ein deutlicher Forschungsbedarf mit Blick auf die Transparenz und Erklärbarkeit dieser Modelle (vgl. Jurafsky & Martin, 2019). \n",
    "\n",
    "Vereinfacht gesagt: Embeddings funktionieren, wir wissen nur nicht genau warum ;)\n",
    "\n",
    "Embeddings zu Sprachdaten können hierbei grundsätzlich auf zwei Arten codiert werden\n",
    "1. *sparse* ('dünnbesetzt')\n",
    "2. *dense* ('dichtbesetzt')\n",
    "\n",
    "Da die Codierung von Sprachdaten als *sparse vector* das - forschungshistorisch betrachtet - ältere Verfahren darstellt, soll zunächst diese Datenrepräsentation erläutert werden."
   ]
  },
  {
   "cell_type": "markdown",
   "metadata": {},
   "source": [
    "## 3. Semantik über Sparse Vectors\n",
    "**Lernziele:**\n",
    "- Was ist die BOW-Repräsenation? Warum ist sie ein Beispiel für einen *sparse vector* bzw. eine *sparse matrix*?\n",
    "- Was ist der Unterschied zwischen einer Term-Dokument- und einer Term-Term-Matrix?\n"
   ]
  },
  {
   "cell_type": "markdown",
   "metadata": {},
   "source": [
    "### 3.1. Bag-of-Words (BOW) / Term-Dokument-Matrix"
   ]
  },
  {
   "cell_type": "markdown",
   "metadata": {},
   "source": [
    "Eine der ersten Ansätze zur Repräsentation der Bedeutung von unstrukturierten Textdaten kommt aus dem Bereich des **Information Retrieval (IR)**. Die Semantik eines Textes wird in den sogenannten **Bag-of-Words-Modellen (BOW)** als Menge der Vorkommenshäufigkeit von **ungeordneten** Termen (~ Wörter/Tokens) innerhalb jedes Dokuments erfasst. Über alle Dokumente eines Korpus hinweg kann somit eine Kookkurenz-Matrix aller Terme für alle Dokumente erstellt werden. Diese Matrix bezeichnet man als **Term-Dokument-Matrix oder BOW** . Hierbei gilt:\n",
    "\n",
    "- Anzahl Spalten = |V| (V=Vokabular)\n",
    "- Anzahl Zeilen = |D| (D=Menge der Dokumente)\n",
    "\n",
    "Ein Beispiel für eine Term-Dokument-Matrix findet sich in der nächsten Zelle. "
   ]
  },
  {
   "cell_type": "code",
   "execution_count": 6,
   "metadata": {},
   "outputs": [
    {
     "data": {
      "text/html": [
       "<div>\n",
       "<style scoped>\n",
       "    .dataframe tbody tr th:only-of-type {\n",
       "        vertical-align: middle;\n",
       "    }\n",
       "\n",
       "    .dataframe tbody tr th {\n",
       "        vertical-align: top;\n",
       "    }\n",
       "\n",
       "    .dataframe thead th {\n",
       "        text-align: right;\n",
       "    }\n",
       "</style>\n",
       "<table border=\"1\" class=\"dataframe\">\n",
       "  <thead>\n",
       "    <tr style=\"text-align: right;\">\n",
       "      <th></th>\n",
       "      <th>As You Like It</th>\n",
       "      <th>Twelth Night</th>\n",
       "      <th>Julius Caesar</th>\n",
       "      <th>Henry V</th>\n",
       "    </tr>\n",
       "  </thead>\n",
       "  <tbody>\n",
       "    <tr>\n",
       "      <th>battle</th>\n",
       "      <td>1</td>\n",
       "      <td>0</td>\n",
       "      <td>7</td>\n",
       "      <td>13</td>\n",
       "    </tr>\n",
       "    <tr>\n",
       "      <th>good</th>\n",
       "      <td>114</td>\n",
       "      <td>80</td>\n",
       "      <td>62</td>\n",
       "      <td>89</td>\n",
       "    </tr>\n",
       "    <tr>\n",
       "      <th>fool</th>\n",
       "      <td>36</td>\n",
       "      <td>58</td>\n",
       "      <td>1</td>\n",
       "      <td>4</td>\n",
       "    </tr>\n",
       "    <tr>\n",
       "      <th>wit</th>\n",
       "      <td>20</td>\n",
       "      <td>15</td>\n",
       "      <td>2</td>\n",
       "      <td>3</td>\n",
       "    </tr>\n",
       "  </tbody>\n",
       "</table>\n",
       "</div>"
      ],
      "text/plain": [
       "        As You Like It  Twelth Night  Julius Caesar  Henry V\n",
       "battle               1             0              7       13\n",
       "good               114            80             62       89\n",
       "fool                36            58              1        4\n",
       "wit                 20            15              2        3"
      ]
     },
     "execution_count": 6,
     "metadata": {},
     "output_type": "execute_result"
    }
   ],
   "source": [
    "# Beispiel für Term-Dokument-Matrix\n",
    "data_shakespeare = {\"battle\":[1, 0, 7, 13],\n",
    "                    \"good\":[114, 80, 62, 89],\n",
    "                    \"fool\":[36, 58, 1, 4],\n",
    "                    \"wit\":[20, 15, 2, 3]}\n",
    "df_shakespeare = pd.DataFrame.from_dict(data_shakespeare, orient=\"index\",\n",
    "                                        columns =[\"As You Like It\", \"Twelth Night\", \"Julius Caesar\", \"Henry V\"])\n",
    "df_shakespeare"
   ]
  },
  {
   "cell_type": "markdown",
   "metadata": {},
   "source": [
    "Das o.g. BOW kann wie folgt aus (tokenisierten) Dokumenten erzeugt werden:\n",
    "\n",
    ">**Vorgehen**\n",
    ">1. Bestimme |V|<br>\n",
    ">   - Anzahl Spalten der Matrix<br><br>\n",
    ">2. Bestimme |D|<br>\n",
    ">   - Anzahl Zeilen der Matrix<br><br>\n",
    ">3. Bestimme die Termfrequenz jedes Terms in jedem Dokument<br><br>\n",
    ">4. Codiere die Termfrequenz pro Dokument für **alle gleichen Terme** immer in derselben Spalte<br>\n",
    ">   - *Hinweis: Meist wird chronologisch durch die Dokumente und Terme iteriert, um zu bestimmen, in welcher Dimension welcher Term codiert werden soll. Prinzipiell ist die Dimensionscodierung aber arbiträr.*<br>\n",
    "\n",
    "**Aufgabe**\n",
    "4. Erstellen Sie ein BOW für das unten angegebene Korpus *corpus*. Das Korpus liegt tokenisiert vor.\n"
   ]
  },
  {
   "cell_type": "code",
   "execution_count": 7,
   "metadata": {
    "scrolled": true
   },
   "outputs": [
    {
     "name": "stdout",
     "output_type": "stream",
     "text": [
      "[['John', 'likes', 'to', 'watch', 'movies', 'Mary', 'likes', 'movies', 'too'],\n",
      " ['John', 'also', 'likes', 'to', 'watch', 'football', 'games', 'Mary', 'hates', 'football']]\n"
     ]
    }
   ],
   "source": [
    "# Erstellung eines simplen Spielzeug-Korpus\n",
    "from pprint import pprint\n",
    "from nltk.tokenize import RegexpTokenizer\n",
    "tokenizer = RegexpTokenizer(r'\\w+')\n",
    "\n",
    "# Daten von hier:\n",
    "# https://radimrehurek.com/gensim/auto_examples/tutorials/run_word2vec.html#sphx-glr-auto-examples-tutorials-run-word2vec-py\n",
    "string_doc1 = \"John likes to watch movies. Mary likes movies too.\"\n",
    "string_doc2 = \"John also likes to watch football games. Mary hates football.\"\n",
    "\n",
    "doc1_tokenized = tokenizer.tokenize(string_doc1)\n",
    "doc2_tokenized = tokenizer.tokenize(string_doc2)\n",
    "\n",
    "corpus = [doc1_tokenized,doc2_tokenized]\n",
    "pprint(corpus,width=100)"
   ]
  },
  {
   "cell_type": "code",
   "execution_count": null,
   "metadata": {},
   "outputs": [],
   "source": []
  },
  {
   "cell_type": "markdown",
   "metadata": {},
   "source": [
    "**Lösung (chronologisch)**<br>\n",
    "d1_bow = [1, 2, 1, 1, 2, 1, 1, 0, 0, 0, 0]<br> \n",
    "d2_bow = [1, 1, 1, 1, 0, 1, 0, 1, 2, 1, 1]<br> "
   ]
  },
  {
   "cell_type": "code",
   "execution_count": null,
   "metadata": {},
   "outputs": [],
   "source": []
  },
  {
   "cell_type": "code",
   "execution_count": 8,
   "metadata": {
    "scrolled": true
   },
   "outputs": [
    {
     "name": "stderr",
     "output_type": "stream",
     "text": [
      "2019-12-05 11:47:25,600 : INFO : adding document #0 to Dictionary(0 unique tokens: [])\n",
      "2019-12-05 11:47:25,616 : INFO : built Dictionary(11 unique tokens: ['John', 'Mary', 'likes', 'movies', 'to']...) from 2 documents (total 19 corpus positions)\n"
     ]
    },
    {
     "name": "stdout",
     "output_type": "stream",
     "text": [
      "Dictionary(11 unique tokens: ['John', 'Mary', 'likes', 'movies', 'to']...)\n"
     ]
    }
   ],
   "source": [
    "# BOW in Gensim\n",
    "\n",
    "# Erzeugung eines Dictionary, welches für jeden Term die Codierungsdimension speichert\n",
    "from gensim.corpora import Dictionary\n",
    "\n",
    "dictionary = Dictionary(corpus)\n",
    "print(dictionary)"
   ]
  },
  {
   "cell_type": "code",
   "execution_count": 9,
   "metadata": {},
   "outputs": [
    {
     "name": "stdout",
     "output_type": "stream",
     "text": [
      "{0: 'John',\n",
      " 1: 'Mary',\n",
      " 2: 'likes',\n",
      " 3: 'movies',\n",
      " 4: 'to',\n",
      " 5: 'too',\n",
      " 6: 'watch',\n",
      " 7: 'also',\n",
      " 8: 'football',\n",
      " 9: 'games',\n",
      " 10: 'hates'}\n"
     ]
    }
   ],
   "source": [
    "# Hinweis: Die Codierung der Elemente erfolgt hierbei \n",
    "# **nicht chronologisch**\n",
    "pprint({v:k for k,v in dictionary.token2id.items()})"
   ]
  },
  {
   "cell_type": "code",
   "execution_count": 10,
   "metadata": {},
   "outputs": [
    {
     "data": {
      "text/plain": [
       "[[(0, 1), (1, 1), (2, 2), (3, 2), (4, 1), (5, 1), (6, 1)],\n",
       " [(0, 1), (1, 1), (2, 1), (4, 1), (6, 1), (7, 1), (8, 2), (9, 1), (10, 1)]]"
      ]
     },
     "execution_count": 10,
     "metadata": {},
     "output_type": "execute_result"
    }
   ],
   "source": [
    "# Das resultierende BOW-Modell ist zudem Sparse als Liste von Tupeln gespeichert,\n",
    "# d.h. Dimensionen mit 0 vorkommenden Termen werden ausgelassen (aus Performanzgründen)\n",
    "# Das erste Element des Tuples korrespondiert mit dem Termindex im Dictionary, wohingegen\n",
    "# das zweite Elementdie absolute Termfrequenz darstellt\n",
    "bow_corpus = [dictionary.doc2bow(doc) for doc in corpus]\n",
    "bow_corpus"
   ]
  },
  {
   "cell_type": "code",
   "execution_count": 11,
   "metadata": {},
   "outputs": [
    {
     "name": "stdout",
     "output_type": "stream",
     "text": [
      "BOW-Vektor (alle Terme in Eingabe bekannt): [(0, 1), (1, 1), (2, 1)])\n",
      "BOW-Vektor (teilweise unbekannte Terme in Eingabe): [(1, 1), (2, 1)])\n",
      "BOW-Vektor (nur unbekannte Terme in Eingabe: [])\n"
     ]
    }
   ],
   "source": [
    "# neue Terme können mit dem BOW-Modell nun in den gleichen Vektorraum transformiert werden\n",
    "# unbekannte Terme werden dabei ausgelassen\n",
    "vec_known = dictionary.doc2bow(\"Mary likes John\".split())\n",
    "vec_partially_unknown = dictionary.doc2bow(\"Mary likes soccer\".split())\n",
    "vec_unknown = dictionary.doc2bow(\"unknown\".split())\n",
    "\n",
    "print(f\"BOW-Vektor (alle Terme in Eingabe bekannt): {vec_known})\")\n",
    "print(f\"BOW-Vektor (teilweise unbekannte Terme in Eingabe): {vec_partially_unknown})\")\n",
    "print(f\"BOW-Vektor (nur unbekannte Terme in Eingabe: {vec_unknown})\")"
   ]
  },
  {
   "cell_type": "code",
   "execution_count": 12,
   "metadata": {},
   "outputs": [
    {
     "ename": "NameError",
     "evalue": "name 'np' is not defined",
     "output_type": "error",
     "traceback": [
      "\u001b[1;31m---------------------------------------------------------------------------\u001b[0m",
      "\u001b[1;31mNameError\u001b[0m                                 Traceback (most recent call last)",
      "\u001b[1;32m<ipython-input-12-7f2e4cc30c88>\u001b[0m in \u001b[0;36m<module>\u001b[1;34m\u001b[0m\n\u001b[0;32m      8\u001b[0m \u001b[0md2_bow\u001b[0m \u001b[1;33m=\u001b[0m \u001b[1;33m[\u001b[0m\u001b[1;36m1\u001b[0m\u001b[1;33m,\u001b[0m \u001b[1;36m1\u001b[0m\u001b[1;33m,\u001b[0m \u001b[1;36m1\u001b[0m\u001b[1;33m,\u001b[0m \u001b[1;36m1\u001b[0m\u001b[1;33m,\u001b[0m \u001b[1;36m0\u001b[0m\u001b[1;33m,\u001b[0m \u001b[1;36m1\u001b[0m\u001b[1;33m,\u001b[0m \u001b[1;36m0\u001b[0m\u001b[1;33m,\u001b[0m \u001b[1;36m1\u001b[0m\u001b[1;33m,\u001b[0m \u001b[1;36m2\u001b[0m\u001b[1;33m,\u001b[0m \u001b[1;36m1\u001b[0m\u001b[1;33m,\u001b[0m \u001b[1;36m1\u001b[0m\u001b[1;33m]\u001b[0m\u001b[1;33m\u001b[0m\u001b[1;33m\u001b[0m\u001b[0m\n\u001b[0;32m      9\u001b[0m \u001b[1;33m\u001b[0m\u001b[0m\n\u001b[1;32m---> 10\u001b[1;33m \u001b[0marr1\u001b[0m \u001b[1;33m=\u001b[0m \u001b[0mnp\u001b[0m\u001b[1;33m.\u001b[0m\u001b[0marray\u001b[0m\u001b[1;33m(\u001b[0m\u001b[0md1_bow\u001b[0m\u001b[1;33m)\u001b[0m\u001b[1;33m.\u001b[0m\u001b[0mreshape\u001b[0m\u001b[1;33m(\u001b[0m\u001b[1;36m1\u001b[0m\u001b[1;33m,\u001b[0m\u001b[1;33m-\u001b[0m\u001b[1;36m1\u001b[0m\u001b[1;33m)\u001b[0m\u001b[1;33m\u001b[0m\u001b[1;33m\u001b[0m\u001b[0m\n\u001b[0m\u001b[0;32m     11\u001b[0m \u001b[0marr2\u001b[0m \u001b[1;33m=\u001b[0m \u001b[0mnp\u001b[0m\u001b[1;33m.\u001b[0m\u001b[0marray\u001b[0m\u001b[1;33m(\u001b[0m\u001b[0md2_bow\u001b[0m\u001b[1;33m)\u001b[0m\u001b[1;33m.\u001b[0m\u001b[0mreshape\u001b[0m\u001b[1;33m(\u001b[0m\u001b[1;36m1\u001b[0m\u001b[1;33m,\u001b[0m\u001b[1;33m-\u001b[0m\u001b[1;36m1\u001b[0m\u001b[1;33m)\u001b[0m\u001b[1;33m\u001b[0m\u001b[1;33m\u001b[0m\u001b[0m\n\u001b[0;32m     12\u001b[0m \u001b[1;33m\u001b[0m\u001b[0m\n",
      "\u001b[1;31mNameError\u001b[0m: name 'np' is not defined"
     ]
    }
   ],
   "source": [
    "# Zur Visualisierung dieser hochdimensionalen Vektoren können diese\n",
    "# über verschiedene Dimensionalitätsreduktionsverfahren (z.B. PCA / t-SNE)\n",
    "# auf 2- oder 3-D reduziert werden\n",
    "from sklearn.manifold import TSNE\n",
    "import matplotlib.pyplot as plt\n",
    "\n",
    "d1_bow = [1, 2, 1, 1, 2, 1, 1, 0, 0, 0, 0]\n",
    "d2_bow = [1, 1, 1, 1, 0, 1, 0, 1, 2, 1, 1]\n",
    "\n",
    "arr1 = np.array(d1_bow).reshape(1,-1)\n",
    "arr2 = np.array(d2_bow).reshape(1,-1)\n",
    "\n",
    "X_bow = np.concatenate((arr1,arr2),axis=0)\n",
    "\n",
    "print(f\"Term-Dokument-Matrix (chronologisch):\\n{X_bow}\")\n",
    "print()\n",
    "\n",
    "# Reduzierung der Daten auf 2-D\n",
    "tsne = TSNE(n_components=2, random_state=42)\n",
    "X_bow_2d = tsne.fit_transform(X_bow)\n",
    "\n",
    "print(f\"Term-Dokument-Matrix (2-D):\\n{X_bow_2d}\")\n",
    "\n",
    "# Plotten der Ergebnisse\n",
    "soa = np.array([[0, 0, X_bow_2d[0][0], X_bow_2d[0][1]], [0, 0, X_bow_2d[1][0], X_bow_2d[1][1]]])\n",
    "X, Y, U, V = zip(*soa)\n",
    "plt.figure()\n",
    "ax = plt.gca()\n",
    "ax.quiver(X, Y, U, V, angles='xy', scale_units='xy', scale=1, color = [\"r\",\"b\"])\n",
    "for i,p in enumerate(X_bow_2d):\n",
    "    ax.text(p[0], p[1], f\"d{i+1}\")\n",
    "\n",
    "ax.set_xlim([-2000, 2000])\n",
    "ax.set_ylim([-2000, 2000])\n",
    "plt.draw()\n",
    "plt.show()"
   ]
  },
  {
   "cell_type": "markdown",
   "metadata": {},
   "source": [
    "### 3.2. Term-Term-Matrix / Wort-Wort-Matrix\n",
    "\n",
    "Eine Term-Term-Matrix greift den Grundgedanken hinter den BOW-Modellen zur Semantik-Modellierung auf, indem nicht ein gesamtes Dokument als \"Bedeutungskontext\" festgelegt wird, sondern in dem Trainingskorpus nur gezählt wird, wie oft welche Wörter in einem bestimmten festgelegten \"Fensterkontext\" vorkommen. Zur Bestimmung dieser Frequenzen wird jeweils ein relativ kleines Fenster (z.B. +/-2 Wörter) durch das Trainingskorpus \"geschoben\", um den direkt umgebenden Kontext zu bestimmen. Wir werden diesen Ansatz bei word2vec wiedersehen, indem darüber Trainingsbeispiele für den zugrundeliegenden Klassifikator aus dem Input-Text generiert werden.\n",
    "\n",
    "![](http://mccormickml.com/assets/word2vec/training_data.png)\n",
    "*Abb. 2: Illustration des fenster-basierten Ansatzes zur Erzeugung einer Term-Term-Matrix<br>(Quelle: http://mccormickml.com/assets/word2vec/training_data.png)*\n",
    "\n",
    "Für die Dimensionen der Term-Term-Matrix gilt:\n",
    "\n",
    "- Anzahl Spalten = |V| (V=Vokabular)\n",
    "- Anzahl Zeilen = |V| (D=Menge der Dokumente)"
   ]
  },
  {
   "cell_type": "code",
   "execution_count": null,
   "metadata": {},
   "outputs": [],
   "source": []
  },
  {
   "cell_type": "code",
   "execution_count": null,
   "metadata": {},
   "outputs": [],
   "source": []
  },
  {
   "cell_type": "code",
   "execution_count": null,
   "metadata": {},
   "outputs": [],
   "source": []
  },
  {
   "cell_type": "code",
   "execution_count": null,
   "metadata": {},
   "outputs": [],
   "source": []
  },
  {
   "cell_type": "markdown",
   "metadata": {},
   "source": [
    "## 4. Gewichtung von frequenzbasierten Vektoren\n",
    "**Lernziele**<br>\n",
    "- Was ist TF-IDF? Warum sind reine Termfrequenzen unzureichend zur Semantikdifferenzierung?\n",
    "- Was sind Anwendungsbereiche dieses Gewichtungsmaßes?\n",
    "\n",
    "\n",
    "## 4.1. TF-IDF\n",
    "Obgleich die Frequenz eines Wortes in einem Text sicherlich auch z.T. semantisch motiviert sein kann, lassen sich darüber keine Rückschlüsse schließen, ob diese Wort auch bedeutsam für die Bedeutungsdifferenzierung zwischen verschiedenen Texten ist. So sind z.B. Funktionswörter zwar hochfrequent, allerdings nicht nützlich für die Erfassung einer spezifischen Textsemantik, Hapax Legomena hingegen wären es schon. Diese hätten allerdings wieder den Nachteil, dass sie zu spezifisch für einen Einzeltext sind, um über mehrere Texte hinweg eine gemeinsame Semantik erfassen zu können. Jurafsky und Martin (2019) kommentieren dies treffend mit\n",
    "\n",
    ">It’s a bit of a paradox. Words that occur nearby frequently (maybe pie nearby\n",
    "cherry) are more important than words that only appear once or twice. Yet words\n",
    "that are too frequent—ubiquitous, like the or good— are unimportant. How can we\n",
    "balance these two conflicting constraints?<br>\n",
    "\n",
    "Zur Gewichtung dieser sehr unterschiedlichen Anforderungen wurde in der IR-Forschung der **TF-IDF-Algorithmus** entwickelt. Ziel des Algorithmus ist eine Gewichtung der reinen Frequenzwerte.\n",
    "\n",
    "Die zwei Komponenten zur Berechnung dieser TF-IDF-Maße sind\n",
    "\n",
    "**TF** = Termfrequenz<br>\n",
    "**IDF** = Inverse Dokumentfrequenz<br>\n",
    "\n",
    "\n",
    "#### Bestimmung von TF\n",
    "\\begin{align}\n",
    "t \\widehat{=}\"Term\"\\\\\n",
    "d \\widehat{=} \"Dokument\"\\\\\n",
    "\\end{align}<br>\n",
    "\n",
    "- Bestimmung der Vorkommenshäufigkeit eines Terms t in Dokument d\n",
    "\\begin{align}\n",
    "tf_{t,d} = count(t,d)\n",
    "\\end{align}<br>\n",
    "\n",
    "- Alternativ: Log-Skalierung der reinen Termfrequenz\n",
    "\\begin{align}\n",
    "tf_{t,d} = log_{10}(count(t,d)+1)\n",
    "\\end{align}<br>\n",
    "\n",
    "#### Bestimmung von IDF\n",
    "\\begin{align}\n",
    "df_{t} \\widehat{=}\"Dokumentfrequenz\\ eines\\ Terms\\ t\"\\\\\n",
    "N \\widehat{=} \"Anzahl\\ der\\ Dokumente\"\\\\\n",
    "\\end{align}<br>\n",
    "\n",
    "- Bestimmung der inversen Dokumentfrequenz\n",
    "\\begin{align}\n",
    "idf_{t} = log_{10}\\left (\\frac{N}{df_{t}}\\right )\n",
    "\\end{align}<br>\n",
    "\n",
    "#### Bestimmung von TF-IDF\n",
    "\\begin{align}\n",
    "tfidf_{t,d} = tf_{t,d} \\cdot idf_{t}\n",
    "\\end{align}<br>\n",
    "\n",
    "Durch die Multiplikation der beiden Maße ergibt sich eine gleichmäßige Gewichtung der Frequenzinformation pro Dokument sowie über alle Dokumente hinweg.\n",
    "\n",
    "**Hinweis:**<br>\n",
    "Neben den hier vorgestellten Gewichtungen existieren eine Reihe von alternativen Formeln zur Bestimmung der einzelnen Formelbestandteile. Formal werden diese häufig in der sog. [SMART-Notation](https://en.wikipedia.org/wiki/SMART_Information_Retrieval_System) angegeben. Diese wird z.B. auch in Gensim sowie in anderen IR-Systemen verwendet."
   ]
  },
  {
   "cell_type": "code",
   "execution_count": null,
   "metadata": {},
   "outputs": [],
   "source": [
    "# TFIDF-Transformationen\n",
    "from gensim.models import TfidfModel\n",
    "\n",
    "tfidf=TfidfModel(bow_corpus)\n",
    "pprint(list(tfidf[bow_corpus]))"
   ]
  },
  {
   "cell_type": "code",
   "execution_count": null,
   "metadata": {
    "scrolled": true
   },
   "outputs": [],
   "source": [
    "# Erinnerung: So sah unser Spielzeugkorpus aus\n",
    "pprint({v:k for k,v in dictionary.token2id.items()})\n",
    "print()\n",
    "pprint(corpus, width=100)"
   ]
  },
  {
   "cell_type": "markdown",
   "metadata": {},
   "source": [
    "### 4.2. Pointwise Mutual Information\n",
    "Eine alternative Gewichtungsfunktion für Term-Term- oder Term-Dokument-Matrizen stellt die **Pointwise Mutual Information (PMI)** dar. Grundsätzlich wird hierbei ermittelt, wie oft zwei Ereignisse gemeinsam auftreten in Relation zu ihrem Auftreten, wenn sie unabhängig voneinander wären. Durch Verhältnis dieser beiden Wahrscheinlichkeiten zueinander kann dann bestimmt werden, wie oft zwei Wörter mehr oder weniger häufig auftreten als wir es zufällig erwarten würden.\n",
    "\n",
    "\\begin{align}\n",
    "w \\widehat{=}\"Zielwort\"\\\\\n",
    "c \\widehat{=} \"Kontextwort\"\\\\\n",
    "PMI(w,c) = log_{2} \\frac{P(w,c)}{P(w)P(c)}\n",
    "\\end{align}\n",
    "\n",
    "Üblicherweise wird jedoch nur die Positive Pointwise Mutual Information (PPMI) verwendet, da negative PMI-Werte zum einen problematisch hinsichtlich ihrer Interpretierbarkeit sind und zum anderen unzuverlässig bei geringeren Korpusgrößen sind. In der Regeln werden alle negativen PMI-Werte deswegen durch 0 ersetzt.\n",
    "\n",
    "\\begin{align}\n",
    "PPMI(w,c) = max(log_{2} \\frac{P(w,c)}{P(w)P(c)},0)\n",
    "\\end{align}\n",
    "\n",
    "\n",
    "Da die PPMI für infrequente Ereignisse generell höher ist, wird häufig die Wahrscheinlichkeit des Kontextwortes durch die Anwendung einer \"Erhöhungsfunktion\" gesteigert. Durch ein Setzen von Alpha = 0.75 wird die Warscheinlichkeit für infrequente Ereignisse etwas gesteigert, indem hochfrequente etwas weniger Wahrscheinlichkeitsmasse erhalten.\n",
    "\n",
    "\\begin{align}\n",
    "P_{\\alpha}(c) = \\frac{ count(c)^\\alpha}{\\sum_c count(c)^\\alpha}\\\\\n",
    "PPMI(w,c) = max(log_{2} \\frac{P(w,c)}{P(w)P_{\\alpha}(c)},0)\\\\\n",
    "\\end{align}\n",
    "\n",
    "\n",
    "Ein Beispiel für PPMI-Scores zwischen verschiedenen Ziel- und Kontextwörtern in einem Wikipedia-Dump, findet sich [hier](https://en.wikipedia.org/wiki/Pointwise_mutual_information)."
   ]
  },
  {
   "cell_type": "markdown",
   "metadata": {},
   "source": [
    "### 4.3. Anwendungsfelder\n",
    "TF-IDF-Modelle dienen häufig als **Base-Line zur Bestimmung einer einfachen Semantik** für Dokumente bzw. Sucheingaben (IR-Perspektive) innerhalb eines Vektorraums. Zur Bestimmung der Ähnlichkeit zwischen Vektoren in einem Vektorraum fehlt uns allerdings noch eine sogenannte Ähnlichkeitsmetrik, welche im Folgenden vorgestellt werden soll."
   ]
  },
  {
   "cell_type": "code",
   "execution_count": null,
   "metadata": {},
   "outputs": [],
   "source": []
  },
  {
   "cell_type": "code",
   "execution_count": null,
   "metadata": {},
   "outputs": [],
   "source": []
  },
  {
   "cell_type": "code",
   "execution_count": null,
   "metadata": {},
   "outputs": [],
   "source": []
  },
  {
   "cell_type": "code",
   "execution_count": null,
   "metadata": {},
   "outputs": [],
   "source": []
  },
  {
   "cell_type": "code",
   "execution_count": null,
   "metadata": {},
   "outputs": [],
   "source": []
  },
  {
   "cell_type": "markdown",
   "metadata": {},
   "source": [
    "## 5. Ähnlichkeitsbestimmung im Vektorraum\n",
    "**Lernziele:**\n",
    "- Was ist die Kosinusähnlichkeit von zwei Vektoren?\n",
    "\n",
    "###  Kosinusähnlichkeit\n",
    "Die Kosinusähnlichkeit zweier Vektoren *v* und *w* ist definiert als:\n",
    "\n",
    "\\begin{align}\n",
    "cosine(v,w) = {\\mathbf{v} \\cdot \\mathbf{w} \\over |\\mathbf{v}||\\mathbf{w}|} = \\frac{ \\sum\\limits_{i=1}^{N}{v_i  w_i} }{ \\sqrt{\\sum\\limits_{i=1}^{N}{v_i^2}}  \\sqrt{\\sum\\limits_{i=1}^{N}{w_i^2}} }\n",
    "\\end{align}\n",
    "\n",
    "Hierbei werden die beiden Vektoren miteinander hinsichlich des Kosinus ihres eingeschlossenen Winkels verglichen. Das Maß dient also zur Interpretation der Lage von zwei Vektoren zueinander.\n",
    "\n",
    "\\begin{align}\n",
    "cosine(v,w) = 1 \\widehat{=} \"Vektoren\\ haben\\ gleiche\\ Ausrichtung\" \\widehat{=} \"Ähnlichkeit\"\\\\\n",
    "cosine(v,w) = 0 \\widehat{=} \"Vektoren\\ stehen\\ orthogonal\\ zueinander\" \\widehat{=} \"keine\\ Ähnlichkeit\"\\\\\n",
    "cosine(v,w) = -1 \\widehat{=} \"Vektoren\\ haben\\ entgegengesetzte\\ Ausrichtung\" \\widehat{=} \"Unähnlichkeit\"\\\\\n",
    "\\end{align}\n",
    "\n",
    "Graphisch kann dieses Verhältnis folgendermaßen visualisiert werden:\n",
    "\n",
    "![](img/cosine_sim.png)\n",
    "*Abb. 3: Visualisierung der Kosinus-Ähnlichkeit zwischen Vektoren<br>Quelle: http://blog.christianperone.com/2013/09/machine-learning-cosine-similarity-for-vector-space-models-part-iii/*\n",
    "\n",
    "Über die Ähnlichkeit von Vektoren zueinander kann anschließend z.B. bestimmt werden, welche Sucheingabe am ähnlichsten zu welchem Dokument ist."
   ]
  },
  {
   "cell_type": "code",
   "execution_count": null,
   "metadata": {},
   "outputs": [],
   "source": [
    "# Suche nach dem ähnlichsten Dokument gegeben einen Suchanfrage/Query\n",
    "# Hinweis: TF-IDF (transformiertes Korpus als Grundlage)\n",
    "from gensim.similarities import MatrixSimilarity\n",
    "\n",
    "index = MatrixSimilarity(tfidf[bow_corpus])\n",
    "\n",
    "query_document1 = 'movies'.split()\n",
    "query_document2 = 'football'.split()\n",
    "query_document3 = 'movies football'.split()\n",
    "\n",
    "query_bow1 = dictionary.doc2bow(query_document1)\n",
    "query_bow2 = dictionary.doc2bow(query_document2)\n",
    "query_bow3 = dictionary.doc2bow(query_document3)\n",
    "\n",
    "sims1 = index[tfidf[query_bow1]]\n",
    "sims2 = index[tfidf[query_bow2]]\n",
    "sims3 = index[tfidf[query_bow3]]\n",
    "\n",
    "print(f\"Query: {query_document1}\\nKosinus-Ähnlichkeit: {list(enumerate(sims1))}\", end=\"\\n\\n\")\n",
    "print(f\"Query: {query_document2}\\nKosinus-Ähnlichkeit: {list(enumerate(sims2))}\", end=\"\\n\\n\")\n",
    "print(f\"Query: {query_document3}\\nKosinus-Ähnlichkeit: {list(enumerate(sims3))}\", end=\"\\n\\n\")"
   ]
  },
  {
   "cell_type": "code",
   "execution_count": null,
   "metadata": {},
   "outputs": [],
   "source": []
  },
  {
   "cell_type": "code",
   "execution_count": null,
   "metadata": {},
   "outputs": [],
   "source": []
  },
  {
   "cell_type": "markdown",
   "metadata": {},
   "source": [
    "## Semantik über Dense Vectors\n",
    "**Lernziele:**\n",
    "- Was sind Dense Vectors?\n",
    "- Welche Algorithmen / Verfahren existieren zur Generierung von Dense Vectors?\n",
    "- Was sind Contextualized String Embeddings?"
   ]
  },
  {
   "cell_type": "markdown",
   "metadata": {},
   "source": [
    "### 6.1. word2vec\n",
    "Neben der in [3.](##3.-Semantik-über-Sparse-Vectors) und [4.](##4.-Gewichtung-von-frequenzbasierten-Vektoren) dargestellten Codierung von Sprachdaten in einem dünnbesetzten Vektorraum existiert eine alternative Codierung in einem dichtbesetzten Vektorraum.\n",
    "\n",
    "Dies hat u.a. folgende Vorteile:\n",
    "- bessere Erfassung von Synonymie\n",
    "- weniger Features für das Training \n",
    "- speichereffizienter\n",
    "\n",
    "Als **eine** Methode für die Erzeugung von deartigen Vektoren zur Repräsentation der Wortsemantik wird das Softwarepaket **word2vec** (Mikolov et al., 2013a/b) vorgestellt, welches folgende Algorithmen umfasst:\n",
    "- **Skip-Gram**\n",
    "- Continuous Bag of Words (CBOW)\n",
    "\n",
    "![](img/cbow_vs_skip_gram.png)\n",
    "*Abb. 4: Vergleich Skip-Gram vs. CBOW-Architektur<br>Quelle: Mikolov et al., 2013a*\n",
    "\n",
    "\n",
    "Aus Gründen der Einfachheit wird nicht die Variante des Skip-Gram-Algorithmus mit mehreren Klassen (Softmax Layer) vorgestellt, sondern das **Skip-Gram mit negativem Sampling**, welches das Training dieser Embeddings auf ein binäres Klassifikationsproblem runterbricht.\n",
    "\n",
    "**Methode**\n",
    ">1. Treat the target word and a neighboring context word as positive examples.\n",
    ">2. Randomly sample other words in the lexicon to get negative samples.\n",
    ">3. Use logistic regression to train a classifier to distinguish those two cases.\n",
    ">4. Use the regression weights as the embeddings.<br>(Jurafsky & Martin, 2019)\n",
    "\n",
    "\n",
    "![](img/word2vec_context.JPG)\n",
    "*Abb. 5: Extraktion von positiven Trainingsbeispielen aus den Trainingsdaten*\n",
    "\n",
    "\n",
    "![](img/word2vec_samples.JPG)\n",
    "*Abb. 6: Generierung von negativen Trainingsbeispielen aus den Trainingsdaten*\n",
    "\n",
    "Zur Bestimmung des geeigneten Störworts (*noise word*) für die negativen Trainingsbeispiele, wird eine gewichtete Unigramm-Frequenz mit dem Faktor Alpha zugrunde gelegt:\n",
    "\n",
    "\\begin{align}\n",
    "P_{\\alpha}(w) = \\frac{count(w)^\\alpha}{\\sum_{w'} count(w)^\\alpha}\n",
    "\\end{align}\n",
    "\n",
    "Die Gewichte werden hierbei für das Training zunächst auf zufällige Werte initialisiert. Durch den Trainingsprozess werden diese Gewichte schrittweise für die einzelnen Trainingsbeispiel so angepasst, dass der Klassifikator immer genauer unterscheiden kann, ob ein Kontextwort neben einem Zielwort auftaucht. Diese Gewichte können nach dem Training als Embedding genutzt werden, um hochdimensionale Wortvektoren in einen niedriger dimensionierten Raum zu projizieren.\n",
    "\n",
    "![](http://mccormickml.com/assets/word2vec/word2vec_weight_matrix_lookup_table.png)\n",
    "*Abb. 7: Nutzung der trainierten Gewichte des Klassifikators zur Einbettung von hochdimensionalen Wortvektoren<br>Quelle: http://mccormickml.com/assets/word2vec/word2vec_weight_matrix_lookup_table.png*\n",
    "\n",
    "Für das Training des Klassifikators müssen folgende zwei Optimierungsziele beachtet werden:\n",
    "\n",
    ">1. **Maximierung** der Ähnlichkeit für das Zielwort- und Kontextwort-Paare (t,c) gezogen aus der Menge der positiven Trainingsbeispiele\n",
    ">2. **Minimierung** der Ähnlichkeit von (t,c)-Paaren gezogenen aus der Menge der negativen Trainingsbeispiele \n",
    "\n",
    "Formal definiert ergibt sich daher für das Lernziel L(Theta) über die **gesamten Trainingsdaten** hinweg:\n",
    "\n",
    "\\begin{align}\n",
    "L(\\theta) = \\sum _{(t,c)\\in +}logP(+|t,c) + \\sum _{(t,c)\\in -}logP(-|t,c) \n",
    "\\end{align}\n",
    "\n",
    "Für jedes **einzelne Zielwort-Kontextwort-Paar** (t,c) mit Noise-Wörtern n1..ni ergibt sich somit folgendes Lernziel:\n",
    "\\begin{align}\n",
    "L(\\theta) = logP(+|t,c) + \\sum ^k_{i=1}logP(-|t,n_{1})\\\\\n",
    "\\end{align}\n",
    "\n",
    "Nach erfolgreichem Training liegen zwei separate Embeddings/Gewichtsmatrizen für jedes Wort *w* vor\n",
    "1. die Zielembedding *T*\n",
    "2. das Kontextembedding *C*\n",
    "\n",
    "![](img/word2vec_weights.JPG)\n",
    "*Abb. 8: Visualisierung des Ziel- und Kontextembeddings mit ihren jeweiligen Trainingszielen<br>(entnommen aus Jurafsky & Martin, 2019)*\n",
    "\n",
    "**Hinweis:**\n",
    "Mit dem vorgestellten word2vec-Verfahren können zwar bekannte Wörter in einem Korpus relativ schnell in eine entsprechende dichte Repräsentation transformiert werden, allerdings können unbekannte Wörter nicht in diesen Vektorraum überführt werden."
   ]
  },
  {
   "cell_type": "code",
   "execution_count": null,
   "metadata": {},
   "outputs": [],
   "source": [
    "# Laden des vortrainierten word2vec-Google-News-Korpus\n",
    "# Quelle:\n",
    "# https://radimrehurek.com/gensim/auto_examples/tutorials/run_word2vec.html#sphx-glr-auto-examples-tutorials-run-word2vec-py\n",
    "import gensim.downloader as api\n",
    "word2vec = api.load('word2vec-google-news-300')\n"
   ]
  },
  {
   "cell_type": "code",
   "execution_count": null,
   "metadata": {
    "scrolled": false
   },
   "outputs": [],
   "source": [
    "from sklearn.metrics.pairwise import cosine_similarity\n",
    "\n",
    "# Test: kompositionelle Semantik bzw. Analogieschlüsse über Wortvektoren möglich?\n",
    "queen_estimate = word2vec.get_vector(\"king\") - word2vec.get_vector(\"man\") + word2vec.get_vector(\"woman\")\n",
    "queen = word2vec.get_vector(\"queen\")\n",
    "\n",
    "sim_queen_queen_estimate = cosine_similarity(queen.reshape(1, -1), queen_estimate.reshape(1, -1))[0][0]\n",
    "\n",
    "print(f\"Kosinus-Ähnlichkeit zwischen kompositionellem Vektor zu 'queen' und tatsächlichem Wortvektor 'queen':\\n{sim_queen_queen_estimate}\", end=\"\\n\\n\")\n",
    "\n",
    "rome_estimate = word2vec.get_vector(\"Paris\") - word2vec.get_vector(\"France\") + word2vec.get_vector(\"Italy\")\n",
    "rome = word2vec.get_vector(\"Rome\")\n",
    "\n",
    "sim_rome_rome_estimate = cosine_similarity(rome.reshape(1, -1), rome_estimate.reshape(1, -1))[0][0]\n",
    "\n",
    "print(f\"Kosinus-Ähnlichkeit zwischen kompositionellem Vektor zu 'Rome' und tatsächlichem Wortvektor 'Rome':\\n{sim_rome_rome_estimate}\")\n",
    "\n"
   ]
  },
  {
   "cell_type": "code",
   "execution_count": null,
   "metadata": {},
   "outputs": [],
   "source": [
    "# Wie ähnlich sind sich zwei Wörter?\n",
    "w1 = \"queen\"\n",
    "w2 = \"king\"\n",
    "\n",
    "sim_w1_w2 = cosine_similarity(word2vec.get_vector(w1).reshape(1, -1).reshape(1, -1), word2vec.get_vector(w2).reshape(1, -1))[0][0]\n",
    "print(f\"Kosinus-Ähnlichkeit zwischen '{w1}' und '{w2}':\\n{sim_w1_w2}\")\n",
    " "
   ]
  },
  {
   "cell_type": "markdown",
   "metadata": {},
   "source": [
    "**Hinweis:**<br>\n",
    "Die gesamten word2vec-Embeddings von Google News können **interaktiv** auf folgenden Seiten durchsucht werden:\n",
    "- https://projector.tensorflow.org/\n",
    "   - 2/3-D Darstellung der Daten möglich, Suche nach den n ähnlichsten Wörtern\n",
    "- https://rare-technologies.com/word2vec-tutorial/#app\n",
    "   - Web-Demo für Ähnlichkeitssuchen (mit \"Analogieschlüssen\", Filtern von untypischen Wörtern aus einer Reihe etc.)"
   ]
  },
  {
   "cell_type": "markdown",
   "metadata": {},
   "source": [
    "### 6.2. weitere Verfahren\n",
    "\n",
    "Folgendes [Github-Repo](https://github.com/Hironsan/awesome-embedding-models) listet eine Reihe von Algorithmen zur Generierung von Embeddings aus unannotierten Textdaten.\n",
    "\n",
    "Aktuell (Stand: 12/2019) geläufige Verfahren sind hierbei u.a.: \n",
    "- FastText\n",
    "- Glove\n",
    "- ELMo\n",
    "- BERT\n",
    "\n",
    "Im Detail kann auf die einzelnen Embedding-Verfahren nicht eingegangen werden. Neue Verfahren gehen allerdings deutlich über rein wort-basierte semantische Repräsentationen hinaus, indem z.B. versucht wird, über neuronale Lernverfahren eine semantische Repräsentation von Sequenzen innerhalb eines Kontexts (bspw. Satz) zu erlernen. Hierbei wird die Information deutlich komplexer modelliert als z.B. bei word2vec. Zudem werden verschiedene Embeddings häufig miteinander kombiniert (*stacking*), um verschiedene Bedeutungsaspekte besser modellieren zu können.\n",
    "\n",
    "Um einen ersten Eindruck für diese Arten von Embeddings zu vermitteln, stelle ich euch ein neues Paper (Akbik et al., 2018) zu \"Contextualized String Embeddings\" vor, welches für eine Reihe von NLP-Downstream-Tasks, bspw. **NER** bis vor knapp 1 Jahr State-of-The-Art-Resulate auf einer Reihe von öffentlich zugänglichen Evaluationskorpora erzielen konnte ([vgl. Link](https://paperswithcode.com/task/named-entity-recognition-ner))\n"
   ]
  },
  {
   "cell_type": "markdown",
   "metadata": {},
   "source": [
    "### 6.3. Contextualized String Embeddings\n",
    "Eine (Python-)Implementation dieser Embeddings, inklusive vortrainierter Sprachmodelle für diverse Sprachen, findet sich unter folgendem [Github-Repo](https://github.com/zalandoresearch/flair). Die von Akbik et al. (2018) vorgeschlagenen Embeddings vereinen hierbei verschiedene Ansätze, welche für die Erfassung der Wortsemantik erforscht wurden: \n",
    "- 'klassische' Word Embeddings\n",
    "- Features auf Character-Ebene\n",
    "- Kontextualisierung von Word Embeddings\n",
    "\n",
    "Grundsätzlich werden zunächst die Features auf Character-Ebene durch ein bilaterales Long-Short-Term-Memory-Netzwerk (BiLSTM) codiert. Grob gesagt ermöglichen diese Art von Netzwerk die Speicherung von Information über eine beliebige Sequenzlänge hinweg über sogenannten **Hidden States**, ohne dass z.B. Information, die zu Beginn einer Sequenz erlernt wurde, später vergessen wird, ein Problem, dass bei 'klassischen' Rekurrenten Neuronalen Netzen auftritt. Der Informationsfluss wird dahingehend kontrolliert, dass über bestimmte **Gates** kontrolliert wird, welche Information in den Hidden Sates gespeichert wird oder nicht.\n",
    "![](https://miro.medium.com/max/1516/1*yBXV9o5q7L_CvY7quJt3WQ.png)\n",
    "*Abb. 9: Schematische Darstellung der Funktionsweise einer LSTM- und GRU-Zelle*\n",
    "- *Quelle:*\n",
    "  - https://miro.medium.com/max/1516/1*yBXV9o5q7L_CvY7quJt3WQ.png\n",
    "\n",
    "\n",
    "Das trainierte Character-Sprachmodell wird hierbei auf **Satzebene** antrainiert, um mit diesem Modell für jedes Wort in einer Sequenz ein kontextualisiertes Embedding extrahieren zu können.\n",
    "![](img/context_string_embeddings_char.JPG)\n",
    "*Abb. 10: Extraktion eines Contextualized String Embeddings für das Wort \"Washington\" auf Basis de<br>(Quelle: Akbik et al., 2018)*\n",
    "\n",
    "Diese Embeddings können anschließend als Basis für einen Down-Stream-NLP-Taks dienen, in diesem Falle **NER** (letzter Layer hier: BiLSTM mit Conditonal Random Field (CRF)).\n",
    "\n",
    "![](img/context_string_embeddings_overview.JPG)\n",
    "*Abb. 11: Übersicht der Netzwerkarchitektur für Contextualized String Embeddings für den Down-Stream-Task NER<br>(Quelle: Akbik et al., 2018)*\n",
    "\n",
    "Die Autoren evaluieren ihre vorgeschlagene Netztwerkarchitektur im Detail sowohl quantitativ...\n",
    "\n",
    "![](img/context_string_embeddings_eval_quant.JPG)\n",
    "*Abb. 12: Evaluationsergebnisse für Contextualized String Embedddings in verschiedenen Netzwerkkonfigurationen für Sequenzlabeling (letzter Layer: BiLSTM-CRF)<br>(Quelle: Akbik et al., 2018)*\n",
    "\n",
    "...als auch qualitativ\n",
    "\n",
    "![](img/context_string_embeddings_eval_qual.JPG)\n",
    "*Abb. 13: qualitative Evaluation der Semantik des Worts \"Washington\" in verschiedenen Satzkontexten<br>(Quelle: Akbik et al., 2018)*\n",
    "\n"
   ]
  },
  {
   "cell_type": "markdown",
   "metadata": {},
   "source": [
    "**Ergebnisse**<br>\n",
    "*Hinweis:* Die aktuell besten Trainingskonfigurationen zur Reproduzierbarkeit der Ergebnisse aus dem Paper sind [hier](https://github.com/zalandoresearch/flair/blob/master/resources/docs/EXPERIMENTS.md) dokumentiert.\n",
    "- **quantitativ**\n",
    "  - für alle getesteten Trainingskonfigurationen haben Contextualized String Embeddings einen positiven Einfluss auf die Perfomanz bei Down-Stream-NLP-Tasks\n",
    "  - neue State-of-the-Art-Resultate bei NER\n",
    "  - gute Performanz bei syntaktischen Aufgaben (POS-Tagging)\n",
    "  - Stacking von 'klassischen' Word Embeddings und Contextualized String Embeddings nützlich für Sequence Labeling\n",
    "  - Task-spezifische Character Features sind nicht nötig<br><br>\n",
    "- **qualitativ**\n",
    "  - Modell ist in der Lage, polyseme Ausdrücke, wie z.B. \"Washington\", korrekt über den umliegen Kontext zu disambiguieren\n",
    "  \n",
    "  \n",
    "**Diskussion**\n",
    "- Contextualized String Embeddings sind ein sinnvolles Instrument zum Erlernen von semantischen Repräsentationen auf unannotierten Daten \n",
    "- Trainingszeit deutlich geringer als bei wort-basierten Modellen, da #Character < #Wörter\n",
    "- Character-basierte Sprachmodelle sind unabhängig von einer Tokenisierung oder einem fixen Vokabular"
   ]
  },
  {
   "cell_type": "code",
   "execution_count": null,
   "metadata": {},
   "outputs": [],
   "source": [
    "from flair.models import SequenceTagger\n",
    "from flair.data import Sentence\n",
    "\n",
    "# Mini-Demo: NER-Annotation mit vortrainiertem Flair-Modell\n",
    "# Quellen:\n",
    "# https://github.com/zalandoresearch/flair/blob/master/resources/docs/TUTORIAL_2_TAGGING.md\n",
    "# https://github.com/zalandoresearch/flair/blob/master/resources/docs/TUTORIAL_3_WORD_EMBEDDING.md\n",
    "tagger = SequenceTagger.load('ner')\n",
    "\n",
    "sentence = Sentence('George Washington went to Washington .')\n",
    "\n",
    "tagger.predict(sentence)\n",
    "\n",
    "print(f\"Annotierter Satz: {sentence.to_tagged_string()}\")"
   ]
  },
  {
   "cell_type": "code",
   "execution_count": null,
   "metadata": {
    "scrolled": true
   },
   "outputs": [],
   "source": [
    "# Stacked Embeddings für diese Netz\n",
    "stacked_embeddings = tagger.embeddings\n",
    "stacked_embeddings"
   ]
  },
  {
   "cell_type": "code",
   "execution_count": null,
   "metadata": {},
   "outputs": [],
   "source": [
    "sentence = Sentence('The grass is green .')\n",
    "\n",
    "# Embedding eines Satzes\n",
    "stacked_embeddings.embed(sentence)\n",
    "\n",
    "for token in sentence:\n",
    "    print(token)\n",
    "    print(token.embedding)\n",
    "    print(token.embedding.shape)\n",
    "    print()"
   ]
  },
  {
   "cell_type": "markdown",
   "metadata": {},
   "source": [
    "## 7. Diskussion\n",
    "**Themen**\n",
    "- Evaluation von Word Embeddings?\n",
    "- Bias bei Word Embeddings?"
   ]
  },
  {
   "cell_type": "code",
   "execution_count": null,
   "metadata": {},
   "outputs": [],
   "source": []
  },
  {
   "cell_type": "code",
   "execution_count": null,
   "metadata": {},
   "outputs": [],
   "source": []
  },
  {
   "cell_type": "code",
   "execution_count": null,
   "metadata": {},
   "outputs": [],
   "source": []
  },
  {
   "cell_type": "code",
   "execution_count": null,
   "metadata": {},
   "outputs": [],
   "source": []
  },
  {
   "cell_type": "code",
   "execution_count": null,
   "metadata": {},
   "outputs": [],
   "source": []
  },
  {
   "cell_type": "code",
   "execution_count": null,
   "metadata": {},
   "outputs": [],
   "source": []
  },
  {
   "cell_type": "code",
   "execution_count": null,
   "metadata": {},
   "outputs": [],
   "source": []
  },
  {
   "cell_type": "code",
   "execution_count": null,
   "metadata": {},
   "outputs": [],
   "source": []
  },
  {
   "cell_type": "code",
   "execution_count": null,
   "metadata": {},
   "outputs": [],
   "source": []
  },
  {
   "cell_type": "code",
   "execution_count": null,
   "metadata": {},
   "outputs": [],
   "source": []
  },
  {
   "cell_type": "code",
   "execution_count": null,
   "metadata": {},
   "outputs": [],
   "source": []
  },
  {
   "cell_type": "code",
   "execution_count": null,
   "metadata": {},
   "outputs": [],
   "source": []
  },
  {
   "cell_type": "code",
   "execution_count": null,
   "metadata": {},
   "outputs": [],
   "source": []
  },
  {
   "cell_type": "code",
   "execution_count": null,
   "metadata": {},
   "outputs": [],
   "source": []
  },
  {
   "cell_type": "code",
   "execution_count": null,
   "metadata": {},
   "outputs": [],
   "source": []
  },
  {
   "cell_type": "code",
   "execution_count": null,
   "metadata": {},
   "outputs": [],
   "source": []
  },
  {
   "cell_type": "code",
   "execution_count": null,
   "metadata": {},
   "outputs": [],
   "source": []
  }
 ],
 "metadata": {
  "kernelspec": {
   "display_name": "Python 3",
   "language": "python",
   "name": "python3"
  },
  "language_info": {
   "codemirror_mode": {
    "name": "ipython",
    "version": 3
   },
   "file_extension": ".py",
   "mimetype": "text/x-python",
   "name": "python",
   "nbconvert_exporter": "python",
   "pygments_lexer": "ipython3",
   "version": "3.6.8"
  }
 },
 "nbformat": 4,
 "nbformat_minor": 2
}
